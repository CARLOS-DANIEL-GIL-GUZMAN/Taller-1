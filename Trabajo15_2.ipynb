{
  "nbformat": 4,
  "nbformat_minor": 0,
  "metadata": {
    "colab": {
      "provenance": [],
      "authorship_tag": "ABX9TyMASwqUCnv2w30yPestu0PN",
      "include_colab_link": true
    },
    "kernelspec": {
      "name": "python3",
      "display_name": "Python 3"
    },
    "language_info": {
      "name": "python"
    }
  },
  "cells": [
    {
      "cell_type": "markdown",
      "metadata": {
        "id": "view-in-github",
        "colab_type": "text"
      },
      "source": [
        "<a href=\"https://colab.research.google.com/github/CARLOS-DANIEL-GIL-GUZMAN/Taller-1/blob/main/Trabajo15_2.ipynb\" target=\"_parent\"><img src=\"https://colab.research.google.com/assets/colab-badge.svg\" alt=\"Open In Colab\"/></a>"
      ]
    },
    {
      "cell_type": "markdown",
      "source": [
        "#Cuaderno 1 - Ejercicios Python\n",
        "##Carlos Daniel Gil Guzman 2024 1\n"
      ],
      "metadata": {
        "id": "5gFSBKh4sJZy"
      }
    },
    {
      "cell_type": "markdown",
      "source": [
        "Write a program that displays the result of the following arithmetic operation on the screen: x(t)=(3+2/2.5)^2\n",
        "\n",
        "\n"
      ],
      "metadata": {
        "id": "ugD4kkU4sJcD"
      }
    },
    {
      "cell_type": "code",
      "execution_count": null,
      "metadata": {
        "id": "pudq7ngqnOsJ"
      },
      "outputs": [],
      "source": [
        "a=float(input(\"Ingrese un valor a: \"))\n",
        "b=float(input(\"Ingrese un valor b: \"))\n",
        "while True:\n",
        "    c=float(input(\"Ingrese un valor c: \"))\n",
        "    if c<0:\n",
        "        print(\"El denominador debe ser mayor a 0\")\n",
        "    else:\n",
        "        break\n",
        "x=((a+b)/c)**b\n",
        "print(\"El resultado de la operación es: \",x)"
      ]
    },
    {
      "cell_type": "markdown",
      "source": [
        "Write a program that asks the user for the number of hours worked and the hourly rate. Then, it should display on the screen the corresponding payment."
      ],
      "metadata": {
        "id": "7BaVM9CKrqjZ"
      }
    },
    {
      "cell_type": "code",
      "source": [
        "def calculo_rem(horas_trabajadas,pago_por_hora):\n",
        "    pago_total=horas_trabajadas*pago_por_hora\n",
        "    return pago_total\n",
        "a=int(input(\"Ingrese horas trabajadas: \"))\n",
        "b=int(input(\"Ingrese valor de hora de trabajo: \"))\n",
        "x=calculo_rem(a,b)\n",
        "print(\"Su pago por\",a ,\"horas de trabajo es: $\",x)"
      ],
      "metadata": {
        "colab": {
          "base_uri": "https://localhost:8080/"
        },
        "id": "XfNbakV_t3FH",
        "outputId": "6a905796-7c3f-467e-b2fd-54d76b593d5b"
      },
      "execution_count": 3,
      "outputs": [
        {
          "output_type": "stream",
          "name": "stdout",
          "text": [
            "Ingrese horas trabajadas: 8\n",
            "Ingrese valor de hora de trabajo: 40\n",
            "Su pago por 8 horas de trabajo es: $ 320\n"
          ]
        }
      ]
    },
    {
      "cell_type": "markdown",
      "source": [
        "Write a program that asks the user for their weight (in kg) and height (in meters), calculates the body mass index (BMI), stores it in a variable, and displays the message \"Your body mass index is imc\" on the screen, where imc is the calculated BMI rounded to two decimal places."
      ],
      "metadata": {
        "id": "1ZNojwMkt-gE"
      }
    },
    {
      "cell_type": "code",
      "source": [
        "def calculo_imc(peso,altura):\n",
        "    imc=peso/altura**2\n",
        "    return imc\n",
        "peso=float(input(\"Ingrese un peso en kg: \"))\n",
        "altura=float(input(\"Ingrese altura en metros: \"))\n",
        "imc=calculo_imc(peso,altura)\n",
        "imc=round(imc,2)\n",
        "print(\"Su imc es de: \",imc)"
      ],
      "metadata": {
        "id": "m9AGD8QjuAxl"
      },
      "execution_count": null,
      "outputs": []
    },
    {
      "cell_type": "markdown",
      "source": [
        "In order to pay a certain tax, you must be over 16 years old and have a monthly income equal to or greater than €1000. Write a program that asks the user for their age and monthly income, and displays whether the user has to pay the tax or not."
      ],
      "metadata": {
        "id": "1M-yYTqzvPx7"
      }
    },
    {
      "cell_type": "code",
      "source": [
        "a=int(input(\"Ingrese su edad: \"))\n",
        "b=float(input(\"Digiten sus ingresos mensuales\"))\n",
        "if a>=16 and b>=1000:\n",
        "  print(\"Al tener\" , a ,\"años y ganar más de 1000 euros mensuales, usted debe pagar impuestos\")\n",
        "else:\n",
        "  print(\"Usted no debe pagar impuestos\")"
      ],
      "metadata": {
        "colab": {
          "base_uri": "https://localhost:8080/"
        },
        "id": "8KGTijYKvTZk",
        "outputId": "6f8f263c-10e8-4bee-ed45-1c0ea73eecb2"
      },
      "execution_count": 6,
      "outputs": [
        {
          "output_type": "stream",
          "name": "stdout",
          "text": [
            "Ingrese su edad: 14\n",
            "Digiten sus ingresos mensuales5000\n",
            "Usted no debe pagar impuestos\n"
          ]
        }
      ]
    },
    {
      "cell_type": "markdown",
      "source": [
        "#Cuaderno 2\n"
      ],
      "metadata": {
        "id": "uifdDUAfxhcP"
      }
    },
    {
      "cell_type": "markdown",
      "source": [
        "The Bella Napoli pizzeria offers vegetarian and non-vegetarian pizzas to its customers. The ingredients for each type of pizza are as follows:\n",
        "\n",
        "Vegetarian ingredients: Bell peppers and tofu.\n",
        "\n",
        "Non-vegetarian ingredients: Pepperoni, Ham, and Salmon.\n",
        "\n",
        "Write a program that asks the user if they want a vegetarian pizza or not, and based on their response, displays a menu with the available ingredients for them to choose from. Only one additional ingredient can be chosen besides the mozzarella and tomato, which are included in all pizzas. Finally, the program should display whether the chosen pizza is vegetarian or not, along with all the ingredients it contains."
      ],
      "metadata": {
        "id": "0PsAUKbRynSY"
      }
    },
    {
      "cell_type": "code",
      "source": [
        "a=int(input(\"Qué pizza desea? 1-Vegetaria 2-No Vegetariana: \"))\n",
        "if a==1:\n",
        "  b=int(input(\"Para menú Vegetariano tenemos los siguientes ingredietes, solo puede seleccionar uno: 1-Pimientos morrones, 2-Tofu, 3-Sin ingredietes\"))\n",
        "  if b==1:\n",
        "    print(\"Usted ha seleccionado una pizza Vegetariana con ingrediente adicional de Pimientos morrones\")\n",
        "  elif b==2:\n",
        "    print(\"Usted ha seleccionado una pizza Vegetariana con ingrediente adicional de Tofu\")\n",
        "  else:\n",
        "    print(\"Usted ha seleccionado una pizza Vegetariana sin ingrediente adicional\")\n",
        "else:\n",
        "  c=int(input(\"Para menú No Vegetariano tenemos los siguientes ingredietes, solo puede seleccionar uno: 1-Pepperoni, 2-Jamon, 3-Salmon, 4-Sin ingredientes\"))\n",
        "  if c==1:\n",
        "    print(\"Usted ha seleccionado una pizza No Vegetariana con ingrediente adicional de Pepperoni\")\n",
        "  elif c==2:\n",
        "    print(\"Usted ha seleccionado una pizza No Vegetariana con ingrediente adicional de Jamon\")\n",
        "  elif C==3:\n",
        "    print(\"Usted ha seleccionado una pizza No Vegetariana con ingrediente adicional de Salmon\")\n",
        "  else:\n",
        "    print(\"Usted ha seleccionado una pizza No Vegetariana sin ingrediente adicional\")\n",
        "\n"
      ],
      "metadata": {
        "colab": {
          "base_uri": "https://localhost:8080/"
        },
        "id": "nBLqSDHPyR3u",
        "outputId": "0a1f2ad8-275e-4b81-9b7b-34a1fd47b29c"
      },
      "execution_count": 11,
      "outputs": [
        {
          "output_type": "stream",
          "name": "stdout",
          "text": [
            "Qué pizza desea? 1-Vegetaria 2-No Vegetariana: 2\n",
            "Para menú No Vegetariano tenemos los siguientes ingredietes, solo puede seleccionar uno: 1-Pepperoni, 2-Jamon, 3-Salmon1\n",
            "Usted ha seleccionado una pizza No Vegetariana con ingrediente adicional de Pepperoni\n"
          ]
        }
      ]
    }
  ]
}